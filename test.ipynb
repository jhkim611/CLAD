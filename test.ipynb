{
 "cells": [
  {
   "cell_type": "code",
   "execution_count": 1,
   "metadata": {},
   "outputs": [],
   "source": [
    "import scipy.io as sio\n",
    "import scipy.sparse as sp\n",
    "import random\n",
    "import torch\n",
    "import pickle\n",
    "from torch_geometric.utils.convert import to_scipy_sparse_matrix\n",
    "import numpy as np"
   ]
  },
  {
   "cell_type": "code",
   "execution_count": 8,
   "metadata": {},
   "outputs": [
    {
     "data": {
      "text/plain": [
       "{'__header__': b'MATLAB 5.0 MAT-file Platform: posix, Created on: Fri Jun 16 12:06:31 2023',\n",
       " '__version__': '1.0',\n",
       " '__globals__': [],\n",
       " 'adj': <45954x45954 sparse matrix of type '<class 'numpy.int64'>'\n",
       " \twith 7693958 stored elements in Compressed Sparse Column format>,\n",
       " 'feat': array([[0.02237555, 0.07049485, 0.42868164, ..., 0.5920398 , 0.13930348,\n",
       "         0.49751243],\n",
       "        [0.02492766, 0.99998516, 0.99998516, ..., 0.5920398 , 0.13930348,\n",
       "         0.49751243],\n",
       "        [0.00617256, 0.07049485, 0.42868164, ..., 0.5920398 , 0.13930348,\n",
       "         0.49751243],\n",
       "        ...,\n",
       "        [0.00908079, 0.35002595, 0.42868164, ..., 0.48258707, 0.80099505,\n",
       "         0.1641791 ],\n",
       "        [0.00617256, 0.07049485, 0.99998516, ..., 0.44278607, 0.4477612 ,\n",
       "         0.5870647 ],\n",
       "        [0.00317531, 0.35002595, 0.42868164, ..., 0.44278607, 0.4477612 ,\n",
       "         0.5870647 ]], dtype=float32),\n",
       " 'clabels': array([], shape=(0, 0), dtype=float64),\n",
       " 'alabels': array([[0, 0, 0, ..., 0, 0, 0]])}"
      ]
     },
     "execution_count": 8,
     "metadata": {},
     "output_type": "execute_result"
    }
   ],
   "source": [
    "data3 = sio.loadmat(\"./dataset2/{}.mat\".format('yelp'))\n",
    "data3"
   ]
  },
  {
   "cell_type": "code",
   "execution_count": 9,
   "metadata": {},
   "outputs": [
    {
     "data": {
      "text/plain": [
       "{'__header__': b'MATLAB 5.0 MAT-file Platform: posix, Created on: Fri Jun 16 11:58:58 2023',\n",
       " '__version__': '1.0',\n",
       " '__globals__': [],\n",
       " 'adj': <28922x28922 sparse matrix of type '<class 'numpy.int64'>'\n",
       " \twith 213300 stored elements in Compressed Sparse Column format>,\n",
       " 'feat': array([[0., 0., 0., ..., 0., 0., 0.],\n",
       "        [1., 1., 0., ..., 1., 1., 1.],\n",
       "        [0., 0., 0., ..., 0., 1., 1.],\n",
       "        ...,\n",
       "        [1., 1., 1., ..., 1., 1., 1.],\n",
       "        [0., 1., 1., ..., 1., 1., 1.],\n",
       "        [1., 1., 1., ..., 1., 1., 1.]], dtype=float32),\n",
       " 'clabels': array([], shape=(0, 0), dtype=float64),\n",
       " 'alabels': array([[0, 0, 0, ..., 1, 1, 1]])}"
      ]
     },
     "execution_count": 9,
     "metadata": {},
     "output_type": "execute_result"
    }
   ],
   "source": [
    "data2 = sio.loadmat(\"./dataset2/{}.mat\".format('Automotive'))\n",
    "data2"
   ]
  },
  {
   "cell_type": "code",
   "execution_count": 4,
   "metadata": {},
   "outputs": [
    {
     "data": {
      "text/plain": [
       "{'__header__': b'MATLAB 5.0 MAT-file Platform: posix, Created on: Fri Jun 16 11:45:18 2023',\n",
       " '__version__': '1.0',\n",
       " '__globals__': [],\n",
       " 'adj': <3327x3327 sparse matrix of type '<class 'numpy.float64'>'\n",
       " \twith 10275 stored elements in Compressed Sparse Column format>,\n",
       " 'feat': array([[0., 0., 0., ..., 0., 0., 0.],\n",
       "        [0., 0., 0., ..., 0., 0., 0.],\n",
       "        [0., 0., 0., ..., 0., 0., 0.],\n",
       "        ...,\n",
       "        [0., 0., 0., ..., 0., 0., 0.],\n",
       "        [0., 0., 0., ..., 0., 0., 0.],\n",
       "        [0., 0., 0., ..., 0., 0., 0.]]),\n",
       " 'clabels': array([[3, 1, 5, ..., 3, 1, 5]], dtype=uint8),\n",
       " 'alabels': array([[0, 0, 0, ..., 0, 0, 1]], dtype=uint8)}"
      ]
     },
     "execution_count": 4,
     "metadata": {},
     "output_type": "execute_result"
    }
   ],
   "source": [
    "data = sio.loadmat(\"./dataset2/{}.mat\".format('citeseer'))\n",
    "data"
   ]
  },
  {
   "cell_type": "code",
   "execution_count": 27,
   "metadata": {},
   "outputs": [
    {
     "data": {
      "text/plain": [
       "array([0, 0, 0, ..., 1, 1, 1])"
      ]
     },
     "execution_count": 27,
     "metadata": {},
     "output_type": "execute_result"
    }
   ],
   "source": [
    "data2['alabels'][0].astype(np.int64)"
   ]
  },
  {
   "cell_type": "code",
   "execution_count": 33,
   "metadata": {},
   "outputs": [
    {
     "data": {
      "text/plain": [
       "array([[0., 0., 0., ..., 0., 0., 0.],\n",
       "       [1., 1., 0., ..., 1., 1., 1.],\n",
       "       [0., 0., 0., ..., 0., 1., 1.],\n",
       "       ...,\n",
       "       [1., 1., 1., ..., 1., 1., 1.],\n",
       "       [0., 1., 1., ..., 1., 1., 1.],\n",
       "       [1., 1., 1., ..., 1., 1., 1.]], dtype=float32)"
      ]
     },
     "execution_count": 33,
     "metadata": {},
     "output_type": "execute_result"
    }
   ],
   "source": [
    "feat = data2['feat']\n",
    "feat"
   ]
  },
  {
   "cell_type": "code",
   "execution_count": 34,
   "metadata": {},
   "outputs": [],
   "source": [
    "from sklearn.cluster import KMeans\n",
    "\n",
    "k = 5\n",
    "model = KMeans(n_clusters=k)\n",
    "model.fit(feat)\n",
    "labels_list = model.labels_"
   ]
  },
  {
   "cell_type": "code",
   "execution_count": 36,
   "metadata": {},
   "outputs": [
    {
     "data": {
      "text/plain": [
       "array([3, 0, 1, ..., 2, 2, 2])"
      ]
     },
     "execution_count": 36,
     "metadata": {},
     "output_type": "execute_result"
    }
   ],
   "source": [
    "model.labels_.astype(np.int64)"
   ]
  },
  {
   "cell_type": "code",
   "execution_count": 38,
   "metadata": {},
   "outputs": [],
   "source": [
    "nodes = [[i for i in range(len(labels_list)) if labels_list[i]==j] for j in range(k)]\n",
    "distances = [[np.linalg.norm(feat[i] - model.cluster_centers_[labels_list[i]]) for i in range(len(labels_list)) if labels_list[i]==j] for j in range(k)]\n",
    "idx_known = np.hstack(np.array([[np.array(nodes[i])[np.array(distances[i]).argsort()][:min(len(distances[i]), 50)]] for i in range(k)], dtype=object).reshape(-1))"
   ]
  },
  {
   "cell_type": "code",
   "execution_count": 41,
   "metadata": {},
   "outputs": [
    {
     "data": {
      "text/plain": [
       "array([15103, 18508, 16624, 20882, 20880, 13350, 13341, 17903, 17893,\n",
       "       17892, 17901,  4616, 18475, 13321, 11621,  5024, 15543, 22546,\n",
       "        3760, 16737, 14992, 17896, 11123, 21814, 15621, 20714, 20750,\n",
       "       20727, 20728, 20753,  2707, 15230, 15231, 20887,  3177,  3176,\n",
       "        3192, 20650, 11361, 20712, 20736, 22558, 15724, 22561, 22902,\n",
       "       13313, 18450, 11118,  1699, 18424, 21268, 23272,   798, 22814,\n",
       "        3917,   883,  8701, 14243, 25661, 25662, 20098, 10676, 10677,\n",
       "       24241, 24242, 24304, 24305, 25485, 25486, 21109, 21110, 21111,\n",
       "       13159,  2434, 14050, 14048, 24641, 25632, 25633, 24011, 24013,\n",
       "       18807, 18805, 18806, 12912, 20923, 22616, 22615, 25199,  9732,\n",
       "        9731, 22405, 23323, 21588,  1968, 18188, 24063, 24062, 23244,\n",
       "       22540,  9400,   272,   960,  5817,  5820,   285,   128,  9536,\n",
       "        5638,  5233,   728,   266,   717,  1229, 10336, 21532,   996,\n",
       "        1801,  4422,  5413,  2846,    80,  7023,  3049,  6784,  3024,\n",
       "        7548,  8004,  6125, 17628,   523,  4937,   316,  7364,  6783,\n",
       "       12669, 17652, 15463, 24537, 24523,  6045,  5280,  1891,   197,\n",
       "       16920,  1174,  1736,  1793, 15468, 27967,  6328,  6324, 17805,\n",
       "       17807, 17809, 17808,  8814, 14897, 13587, 23087, 24171, 24170,\n",
       "       24169, 23910,   307,   304, 23178, 23179, 23552, 20855, 20148,\n",
       "       21696, 20874, 22201, 22200, 23670, 25573,   890, 18204, 12917,\n",
       "        7393, 11800, 21964, 10724, 13371, 15760,  3240, 23859, 20820,\n",
       "       11316, 12718, 14569, 15761,  7020, 20825, 21507, 15427, 20294,\n",
       "       16927, 19647, 10495, 10191, 10264,  9986, 10453, 10318, 10166,\n",
       "        9855, 10504, 10412, 10482, 10341, 10477, 10136, 10165, 10034,\n",
       "       10492, 10101, 10156, 10423, 10201, 10362, 10364, 10246, 10005,\n",
       "       10224,  6976, 10175, 10158,  4216, 10074, 10172, 10314, 10135,\n",
       "       10387,  4381,  4248,  4187,  4383,  4234,  4183,  4441,  4356,\n",
       "        4306,  4395,  4184,  4236,  4284,  4167, 10523])"
      ]
     },
     "execution_count": 41,
     "metadata": {},
     "output_type": "execute_result"
    }
   ],
   "source": [
    "idx_known"
   ]
  }
 ],
 "metadata": {
  "kernelspec": {
   "display_name": "newenv",
   "language": "python",
   "name": "python3"
  },
  "language_info": {
   "codemirror_mode": {
    "name": "ipython",
    "version": 3
   },
   "file_extension": ".py",
   "mimetype": "text/x-python",
   "name": "python",
   "nbconvert_exporter": "python",
   "pygments_lexer": "ipython3",
   "version": "3.7.6"
  },
  "orig_nbformat": 4
 },
 "nbformat": 4,
 "nbformat_minor": 2
}
